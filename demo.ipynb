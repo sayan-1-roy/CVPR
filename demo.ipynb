{
 "cells": [
  {
   "cell_type": "code",
   "execution_count": 2,
   "id": "ea858321",
   "metadata": {},
   "outputs": [
    {
     "name": "stdout",
     "output_type": "stream",
     "text": [
      "Show digit photos to the camera. Press 'q' to quit\n",
      "Detection stopped.\n"
     ]
    }
   ],
   "source": [
    "import cv2\n",
    "import numpy as np\n",
    "import tensorflow as tf\n",
    "\n",
    "model_path = \"model.keras\"\n",
    "model = tf.keras.models.load_model(model_path)\n",
    "cap = cv2.VideoCapture(0)\n",
    "\n",
    "cap.set(cv2.CAP_PROP_FRAME_WIDTH, 1280)   \n",
    "cap.set(cv2.CAP_PROP_FRAME_HEIGHT, 720)   \n",
    "\n",
    "cv2.namedWindow(\"Digit Detection\", cv2.WINDOW_NORMAL)\n",
    "cv2.resizeWindow(\"Digit Detection\", 1280, 720)\n",
    "\n",
    "print(\"Show digit photos to the camera. Press 'q' to quit\")\n",
    "\n",
    "while True:\n",
    "    ret, frame = cap.read()\n",
    "    if not ret:\n",
    "        print(\"Failed to grab frame\")\n",
    "        break\n",
    "\n",
    "    h, w, _ = frame.shape\n",
    "    size_w = int(w * 0.6)\n",
    "    size_h = int(h * 0.6)\n",
    "    x1 = w // 2 - size_w // 2\n",
    "    y1 = h // 2 - size_h // 2\n",
    "    x2 = x1 + size_w\n",
    "    y2 = y1 + size_h\n",
    "\n",
    "    roi = frame[y1:y2, x1:x2]\n",
    "\n",
    "    gray = cv2.cvtColor(roi, cv2.COLOR_BGR2GRAY)\n",
    "    resized = cv2.resize(gray, (28, 28))\n",
    "    normalized = resized.astype(\"float32\") / 255.0\n",
    "    input_data = np.expand_dims(normalized, axis=(0, -1))\n",
    "\n",
    "    preds = model.predict(input_data, verbose=0)\n",
    "    digit = np.argmax(preds)\n",
    "    confidence = np.max(preds)\n",
    "\n",
    "    if confidence > 0.7:\n",
    "        result_text = f\"DETECTED: {digit}\"\n",
    "        conf_text = f\"Confidence: {confidence:.2f}\"\n",
    "        color = (0, 255, 0)\n",
    "        cv2.putText(frame, result_text, (50, 80),\n",
    "                    cv2.FONT_HERSHEY_SIMPLEX, 2, color, 3)\n",
    "        cv2.putText(frame, conf_text, (50, 130),\n",
    "                    cv2.FONT_HERSHEY_SIMPLEX, 1, color, 2)\n",
    "    else:\n",
    "        cv2.putText(frame, \"Searching for digit...\", (50, 80),\n",
    "                    cv2.FONT_HERSHEY_SIMPLEX, 1, (255, 255, 255), 2)\n",
    "\n",
    "    cv2.rectangle(frame, (x1, y1), (x2, y2), (255, 0, 0), 3)\n",
    "    cv2.putText(frame, \"Inside blue rectangle\", (10, 30),\n",
    "                cv2.FONT_HERSHEY_SIMPLEX, 0.7, (255, 255, 255), 2)\n",
    "\n",
    "    cv2.imshow(\"Digit Detection\", frame)\n",
    "\n",
    "    if cv2.waitKey(1) & 0xFF == ord(\"q\"):\n",
    "        break\n",
    "\n",
    "cap.release()\n",
    "cv2.destroyAllWindows()\n",
    "print(\"Detection stopped.\")\n",
    " "
   ]
  }
 ],
 "metadata": {
  "kernelspec": {
   "display_name": "Python (venv)",
   "language": "python",
   "name": "venv"
  },
  "language_info": {
   "codemirror_mode": {
    "name": "ipython",
    "version": 3
   },
   "file_extension": ".py",
   "mimetype": "text/x-python",
   "name": "python",
   "nbconvert_exporter": "python",
   "pygments_lexer": "ipython3",
   "version": "3.13.5"
  }
 },
 "nbformat": 4,
 "nbformat_minor": 5
}
